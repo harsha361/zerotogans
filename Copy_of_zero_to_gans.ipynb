{
  "nbformat": 4,
  "nbformat_minor": 0,
  "metadata": {
    "colab": {
      "provenance": [],
      "authorship_tag": "ABX9TyNFfkp99s0QQS8K+Rye04IQ",
      "include_colab_link": true
    },
    "kernelspec": {
      "name": "python3",
      "display_name": "Python 3"
    },
    "language_info": {
      "name": "python"
    }
  },
  "cells": [
    {
      "cell_type": "markdown",
      "metadata": {
        "id": "view-in-github",
        "colab_type": "text"
      },
      "source": [
        "<a href=\"https://colab.research.google.com/github/harsha361/zerotogans/blob/main/Copy_of_zero_to_gans.ipynb\" target=\"_parent\"><img src=\"https://colab.research.google.com/assets/colab-badge.svg\" alt=\"Open In Colab\"/></a>"
      ]
    },
    {
      "cell_type": "code",
      "execution_count": null,
      "metadata": {
        "id": "KKEdVpuWPstm"
      },
      "outputs": [],
      "source": [
        "import torch\n",
        "import torchvision\n",
        "import torch.nn as nn\n",
        "import numpy as np\n",
        "import torchvision.transforms as transforms\n"
      ]
    },
    {
      "cell_type": "code",
      "source": [
        "x=torch.tensor(1.,requires_grad=True)\n",
        "w=torch.tensor(2.,requires_grad=True)\n",
        "b=torch.tensor(3.,requires_grad=True)\n",
        "\n",
        "#building a computational graph\n",
        "y=w*x+b\n",
        "#compute gradients\n",
        "y.backward()\n",
        "#printing the gradients\n",
        "print(x.grad)\n",
        "print(w.grad)\n",
        "print(b.grad)\n",
        "x\n",
        "\n"
      ],
      "metadata": {
        "colab": {
          "base_uri": "https://localhost:8080/"
        },
        "id": "es-Pw42OQ751",
        "outputId": "5ca7c2c5-97b2-4bec-bf86-cf9281785321"
      },
      "execution_count": null,
      "outputs": [
        {
          "output_type": "stream",
          "name": "stdout",
          "text": [
            "tensor(2.)\n",
            "tensor(1.)\n",
            "tensor(1.)\n"
          ]
        },
        {
          "output_type": "execute_result",
          "data": {
            "text/plain": [
              "tensor(1., requires_grad=True)"
            ]
          },
          "metadata": {},
          "execution_count": 5
        }
      ]
    },
    {
      "cell_type": "code",
      "source": [
        "#baisc auto grad example2\n",
        "x=torch.randn(10,3)\n",
        "y=torch.randn(10,2)\n",
        "x,y"
      ],
      "metadata": {
        "colab": {
          "base_uri": "https://localhost:8080/"
        },
        "id": "qyYwiGoWRlDP",
        "outputId": "8e2c26d8-dc0c-41c9-957d-6c26cce1a90b"
      },
      "execution_count": null,
      "outputs": [
        {
          "output_type": "execute_result",
          "data": {
            "text/plain": [
              "(tensor([[ 0.0205,  0.4011,  0.5630],\n",
              "         [ 0.1499, -1.2534,  1.0989],\n",
              "         [-0.5205,  1.8963, -0.5255],\n",
              "         [-0.4348, -0.4124, -0.1040],\n",
              "         [ 0.5007, -0.7695,  1.0679],\n",
              "         [ 0.8344,  1.6033, -0.6566],\n",
              "         [ 0.2344,  0.6499, -0.5887],\n",
              "         [ 0.7655,  1.4887,  0.1893],\n",
              "         [ 0.5373, -0.8724,  1.2098],\n",
              "         [ 0.2101,  0.2396,  1.2717]]),\n",
              " tensor([[-0.3567,  1.3472],\n",
              "         [ 1.1036, -0.6676],\n",
              "         [-0.3192,  0.1493],\n",
              "         [ 0.6985, -0.2528],\n",
              "         [ 2.4350,  0.0450],\n",
              "         [ 0.1231, -0.1341],\n",
              "         [ 0.2297,  0.9698],\n",
              "         [-0.9799,  1.8308],\n",
              "         [ 0.2835,  0.2586],\n",
              "         [ 1.2889, -0.9762]]))"
            ]
          },
          "metadata": {},
          "execution_count": 11
        }
      ]
    },
    {
      "cell_type": "code",
      "source": [
        "#building a fully connected linear layer\n",
        "linear=nn.Linear(3,2)\n",
        "print('w:',linear.weight)\n",
        "print('b:',linear.bias)"
      ],
      "metadata": {
        "colab": {
          "base_uri": "https://localhost:8080/"
        },
        "id": "NhAijOSKTzQG",
        "outputId": "24ac005e-d113-429f-a958-0c27bf72820b"
      },
      "execution_count": null,
      "outputs": [
        {
          "output_type": "stream",
          "name": "stdout",
          "text": [
            "w: Parameter containing:\n",
            "tensor([[-0.4843,  0.5004, -0.5714],\n",
            "        [ 0.4913,  0.0135, -0.0980]], requires_grad=True)\n",
            "b: Parameter containing:\n",
            "tensor([-0.3526, -0.2912], requires_grad=True)\n"
          ]
        }
      ]
    },
    {
      "cell_type": "code",
      "source": [
        "#lossfunction and optimizer\n",
        "criterion=nn.MSELoss()\n",
        "optimizer=torch.optim.SGD(linear.parameters(),lr=0.01)\n",
        "#forward pass\n",
        "pred=linear(x)\n",
        "#compute loss\n",
        "loss=criterion(pred,y)\n",
        "print('loss:',loss.item())\n",
        "#backward pass\n",
        "loss.backward()\n",
        "\n",
        "#printing the gradients\n",
        "print('dl/dw:',linear.weight.grad)\n",
        "print('dl/db:',linear.bias.grad)\n",
        "#optimizer step\n",
        "optimizer.step()\n",
        "\n",
        "#printing the loss after 1 step gradient descent\n",
        "pred=linear(x)\n",
        "loss=criterion(pred,y)\n",
        "print('loss after 1 step optimization:',loss.item())\n",
        "\n",
        "\n"
      ],
      "metadata": {
        "colab": {
          "base_uri": "https://localhost:8080/"
        },
        "id": "OhhXV6lbUspc",
        "outputId": "31ae60a5-655d-4a4a-ddaa-5f419222bfab"
      },
      "execution_count": null,
      "outputs": [
        {
          "output_type": "stream",
          "name": "stdout",
          "text": [
            "loss: 1.7605899572372437\n",
            "dl/dw: tensor([[ 0.2693, -0.0934, -2.0545],\n",
            "        [-0.0363,  0.5590,  0.2183]])\n",
            "dl/db: tensor([ 1.1618, -0.5611])\n",
            "loss after 1 step optimization: 1.698185920715332\n"
          ]
        }
      ]
    },
    {
      "cell_type": "code",
      "source": [
        "linear=nn.Linear(3,2)\n",
        "linear.weight"
      ],
      "metadata": {
        "colab": {
          "base_uri": "https://localhost:8080/"
        },
        "id": "DctZnJYJW4U8",
        "outputId": "bca03684-3e32-4631-ca8b-8b6e46d4d2c6"
      },
      "execution_count": null,
      "outputs": [
        {
          "output_type": "execute_result",
          "data": {
            "text/plain": [
              "Parameter containing:\n",
              "tensor([[-0.0754,  0.1555, -0.2577],\n",
              "        [ 0.2163, -0.0331,  0.3289]], requires_grad=True)"
            ]
          },
          "metadata": {},
          "execution_count": 9
        }
      ]
    },
    {
      "cell_type": "code",
      "source": [
        "#loading data from numpy\n",
        "x=np.array([[1,2],[3,4]])\n",
        "y=torch.from_numpy(x)\n",
        "z=y.numpy()"
      ],
      "metadata": {
        "id": "0McMR9ikbYKT"
      },
      "execution_count": null,
      "outputs": []
    },
    {
      "cell_type": "code",
      "source": [
        "#creating an input pipeline\n",
        "train_dataset=torchvision.datasets.CIFAR10(root=\"../../data/\",train=True,\n",
        "                                           transform=transforms.ToTensor(),\n",
        "                                           download=True)\n",
        "image,label=train_dataset[0]\n",
        "print(image.size())\n",
        "print(label)\n",
        "\n"
      ],
      "metadata": {
        "colab": {
          "base_uri": "https://localhost:8080/"
        },
        "id": "XJZcUiZ84HzC",
        "outputId": "e1d44cf0-1a30-4b16-fcb6-b9786a400b94"
      },
      "execution_count": null,
      "outputs": [
        {
          "output_type": "stream",
          "name": "stdout",
          "text": [
            "Files already downloaded and verified\n",
            "torch.Size([3, 32, 32])\n",
            "6\n"
          ]
        }
      ]
    },
    {
      "cell_type": "code",
      "source": [
        "#prpearing a dataloader(provides queues and threads)\n",
        "train_loader=torch.utils.data.DataLoader(dataset=train_dataset,batch_size=64,\n",
        "                                         shuffle=True)"
      ],
      "metadata": {
        "id": "ZKLY3iY18h2M"
      },
      "execution_count": null,
      "outputs": []
    }
  ]
}